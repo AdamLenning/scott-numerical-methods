{
 "cells": [
  {
   "cell_type": "code",
   "execution_count": 5,
   "metadata": {},
   "outputs": [],
   "source": [
    "import polars as pl\n",
    "\n",
    "df = pl.read_csv(\"https://j.mp/iriscsv\")"
   ]
  },
  {
   "cell_type": "code",
   "execution_count": 6,
   "metadata": {},
   "outputs": [
    {
     "data": {
      "text/html": [
       "<div>\n",
       "<style scoped>\n",
       "    .dataframe tbody tr th:only-of-type {\n",
       "        vertical-align: middle;\n",
       "    }\n",
       "\n",
       "    .dataframe tbody tr th {\n",
       "        vertical-align: top;\n",
       "    }\n",
       "\n",
       "    .dataframe thead th {\n",
       "        text-align: right;\n",
       "    }\n",
       "</style>\n",
       "<table border=\"1 \"class=\"dataframe \">\n",
       "<thead>\n",
       "<tr>\n",
       "<th>\n",
       "species\n",
       "</th>\n",
       "<th>\n",
       "sepal_length_sum\n",
       "</th>\n",
       "<th>\n",
       "sepal_width_sum\n",
       "</th>\n",
       "<th>\n",
       "petal_length_sum\n",
       "</th>\n",
       "<th>\n",
       "petal_width_sum\n",
       "</th>\n",
       "</tr>\n",
       "<tr>\n",
       "<td>\n",
       "str\n",
       "</td>\n",
       "<td>\n",
       "f64\n",
       "</td>\n",
       "<td>\n",
       "f64\n",
       "</td>\n",
       "<td>\n",
       "f64\n",
       "</td>\n",
       "<td>\n",
       "f64\n",
       "</td>\n",
       "</tr>\n",
       "</thead>\n",
       "<tbody>\n",
       "<tr>\n",
       "<td>\n",
       "\"setosa\"\n",
       "</td>\n",
       "<td>\n",
       "116.89999999999999\n",
       "</td>\n",
       "<td>\n",
       "81.7\n",
       "</td>\n",
       "<td>\n",
       "33.199999999999996\n",
       "</td>\n",
       "<td>\n",
       "6.1000000000000005\n",
       "</td>\n",
       "</tr>\n",
       "<tr>\n",
       "<td>\n",
       "\"virginica\"\n",
       "</td>\n",
       "<td>\n",
       "324.49999999999994\n",
       "</td>\n",
       "<td>\n",
       "146.2\n",
       "</td>\n",
       "<td>\n",
       "273.09999999999997\n",
       "</td>\n",
       "<td>\n",
       "99.59999999999998\n",
       "</td>\n",
       "</tr>\n",
       "<tr>\n",
       "<td>\n",
       "\"versicolor\"\n",
       "</td>\n",
       "<td>\n",
       "281.9\n",
       "</td>\n",
       "<td>\n",
       "131.8\n",
       "</td>\n",
       "<td>\n",
       "202.89999999999998\n",
       "</td>\n",
       "<td>\n",
       "63.3\n",
       "</td>\n",
       "</tr>\n",
       "</tbody>\n",
       "</table>\n",
       "</div>"
      ],
      "text/plain": [
       "shape: (3, 5)\n",
       "┌────────────┬────────────────────┬─────────────────┬────────────────────┬────────────────────┐\n",
       "│ species    ┆ sepal_length_sum   ┆ sepal_width_sum ┆ petal_length_sum   ┆ petal_width_sum    │\n",
       "│ ---        ┆ ---                ┆ ---             ┆ ---                ┆ ---                │\n",
       "│ str        ┆ f64                ┆ f64             ┆ f64                ┆ f64                │\n",
       "╞════════════╪════════════════════╪═════════════════╪════════════════════╪════════════════════╡\n",
       "│ setosa     ┆ 116.89999999999999 ┆ 81.7            ┆ 33.199999999999996 ┆ 6.1000000000000005 │\n",
       "├╌╌╌╌╌╌╌╌╌╌╌╌┼╌╌╌╌╌╌╌╌╌╌╌╌╌╌╌╌╌╌╌╌┼╌╌╌╌╌╌╌╌╌╌╌╌╌╌╌╌╌┼╌╌╌╌╌╌╌╌╌╌╌╌╌╌╌╌╌╌╌╌┼╌╌╌╌╌╌╌╌╌╌╌╌╌╌╌╌╌╌╌╌┤\n",
       "│ virginica  ┆ 324.49999999999994 ┆ 146.2           ┆ 273.09999999999997 ┆ 99.59999999999998  │\n",
       "├╌╌╌╌╌╌╌╌╌╌╌╌┼╌╌╌╌╌╌╌╌╌╌╌╌╌╌╌╌╌╌╌╌┼╌╌╌╌╌╌╌╌╌╌╌╌╌╌╌╌╌┼╌╌╌╌╌╌╌╌╌╌╌╌╌╌╌╌╌╌╌╌┼╌╌╌╌╌╌╌╌╌╌╌╌╌╌╌╌╌╌╌╌┤\n",
       "│ versicolor ┆ 281.9              ┆ 131.8           ┆ 202.89999999999998 ┆ 63.3               │\n",
       "└────────────┴────────────────────┴─────────────────┴────────────────────┴────────────────────┘"
      ]
     },
     "execution_count": 6,
     "metadata": {},
     "output_type": "execute_result"
    }
   ],
   "source": [
    "(df.filter(pl.col(\"sepal_length\") > 5)\n",
    "      .groupby(\"species\")\n",
    "      .sum())"
   ]
  },
  {
   "cell_type": "code",
   "execution_count": 9,
   "metadata": {},
   "outputs": [
    {
     "name": "stderr",
     "output_type": "stream",
     "text": [
      "thread '<unnamed>' panicked at 'could not open file: Os { code: 2, kind: NotFound, message: \"No such file or directory\" }', /github/workspace/polars/polars-lazy/src/logical_plan/mod.rs:776:51\n"
     ]
    },
    {
     "ename": "PanicException",
     "evalue": "could not open file: Os { code: 2, kind: NotFound, message: \"No such file or directory\" }",
     "output_type": "error",
     "traceback": [
      "\u001b[0;31m---------------------------------------------------------------------------\u001b[0m",
      "\u001b[0;31mPanicException\u001b[0m                            Traceback (most recent call last)",
      "\u001b[0;32m/tmp/ipykernel_13777/2412041266.py\u001b[0m in \u001b[0;36m<module>\u001b[0;34m\u001b[0m\n\u001b[1;32m      1\u001b[0m q = (\n\u001b[0;32m----> 2\u001b[0;31m     \u001b[0mpl\u001b[0m\u001b[0;34m.\u001b[0m\u001b[0mscan_csv\u001b[0m\u001b[0;34m(\u001b[0m\u001b[0;34m\"https://j.mp/iriscsv\"\u001b[0m\u001b[0;34m)\u001b[0m\u001b[0;34m\u001b[0m\u001b[0;34m\u001b[0m\u001b[0m\n\u001b[0m\u001b[1;32m      3\u001b[0m     \u001b[0;34m.\u001b[0m\u001b[0mfilter\u001b[0m\u001b[0;34m(\u001b[0m\u001b[0mpl\u001b[0m\u001b[0;34m.\u001b[0m\u001b[0mcol\u001b[0m\u001b[0;34m(\u001b[0m\u001b[0;34m\"sepal_length\"\u001b[0m\u001b[0;34m)\u001b[0m \u001b[0;34m>\u001b[0m \u001b[0;36m5\u001b[0m\u001b[0;34m)\u001b[0m\u001b[0;34m\u001b[0m\u001b[0;34m\u001b[0m\u001b[0m\n\u001b[1;32m      4\u001b[0m     \u001b[0;34m.\u001b[0m\u001b[0mgroupby\u001b[0m\u001b[0;34m(\u001b[0m\u001b[0;34m\"species\"\u001b[0m\u001b[0;34m)\u001b[0m\u001b[0;34m\u001b[0m\u001b[0;34m\u001b[0m\u001b[0m\n\u001b[1;32m      5\u001b[0m     \u001b[0;34m.\u001b[0m\u001b[0magg\u001b[0m\u001b[0;34m(\u001b[0m\u001b[0mpl\u001b[0m\u001b[0;34m.\u001b[0m\u001b[0mcol\u001b[0m\u001b[0;34m(\u001b[0m\u001b[0;34m\"*\"\u001b[0m\u001b[0;34m)\u001b[0m\u001b[0;34m.\u001b[0m\u001b[0msum\u001b[0m\u001b[0;34m(\u001b[0m\u001b[0;34m)\u001b[0m\u001b[0;34m)\u001b[0m\u001b[0;34m\u001b[0m\u001b[0;34m\u001b[0m\u001b[0m\n",
      "\u001b[0;32m~/school/research/venv/lib/python3.9/site-packages/polars/io.py\u001b[0m in \u001b[0;36mscan_csv\u001b[0;34m(file, infer_schema_length, has_headers, ignore_errors, sep, skip_rows, stop_after_n_rows, cache, dtype, low_memory, comment_char, quote_char, null_values)\u001b[0m\n\u001b[1;32m    451\u001b[0m     \u001b[0;32mif\u001b[0m \u001b[0misinstance\u001b[0m\u001b[0;34m(\u001b[0m\u001b[0mfile\u001b[0m\u001b[0;34m,\u001b[0m \u001b[0mPath\u001b[0m\u001b[0;34m)\u001b[0m\u001b[0;34m:\u001b[0m\u001b[0;34m\u001b[0m\u001b[0;34m\u001b[0m\u001b[0m\n\u001b[1;32m    452\u001b[0m         \u001b[0mfile\u001b[0m \u001b[0;34m=\u001b[0m \u001b[0mstr\u001b[0m\u001b[0;34m(\u001b[0m\u001b[0mfile\u001b[0m\u001b[0;34m)\u001b[0m\u001b[0;34m\u001b[0m\u001b[0;34m\u001b[0m\u001b[0m\n\u001b[0;32m--> 453\u001b[0;31m     return pl.LazyFrame.scan_csv(\n\u001b[0m\u001b[1;32m    454\u001b[0m         \u001b[0mfile\u001b[0m\u001b[0;34m=\u001b[0m\u001b[0mfile\u001b[0m\u001b[0;34m,\u001b[0m\u001b[0;34m\u001b[0m\u001b[0;34m\u001b[0m\u001b[0m\n\u001b[1;32m    455\u001b[0m         \u001b[0mhas_headers\u001b[0m\u001b[0;34m=\u001b[0m\u001b[0mhas_headers\u001b[0m\u001b[0;34m,\u001b[0m\u001b[0;34m\u001b[0m\u001b[0;34m\u001b[0m\u001b[0m\n",
      "\u001b[0;32m~/school/research/venv/lib/python3.9/site-packages/polars/lazy/frame.py\u001b[0m in \u001b[0;36mscan_csv\u001b[0;34m(file, infer_schema_length, has_headers, ignore_errors, sep, skip_rows, stop_after_n_rows, cache, dtype, low_memory, comment_char, quote_char, null_values)\u001b[0m\n\u001b[1;32m     72\u001b[0m \u001b[0;34m\u001b[0m\u001b[0m\n\u001b[1;32m     73\u001b[0m         \u001b[0mself\u001b[0m \u001b[0;34m=\u001b[0m \u001b[0mLazyFrame\u001b[0m\u001b[0;34m.\u001b[0m\u001b[0m__new__\u001b[0m\u001b[0;34m(\u001b[0m\u001b[0mLazyFrame\u001b[0m\u001b[0;34m)\u001b[0m\u001b[0;34m\u001b[0m\u001b[0;34m\u001b[0m\u001b[0m\n\u001b[0;32m---> 74\u001b[0;31m         self._ldf = PyLazyFrame.new_from_csv(\n\u001b[0m\u001b[1;32m     75\u001b[0m             \u001b[0mfile\u001b[0m\u001b[0;34m,\u001b[0m\u001b[0;34m\u001b[0m\u001b[0;34m\u001b[0m\u001b[0m\n\u001b[1;32m     76\u001b[0m             \u001b[0msep\u001b[0m\u001b[0;34m,\u001b[0m\u001b[0;34m\u001b[0m\u001b[0;34m\u001b[0m\u001b[0m\n",
      "\u001b[0;31mPanicException\u001b[0m: could not open file: Os { code: 2, kind: NotFound, message: \"No such file or directory\" }"
     ]
    }
   ],
   "source": [
    "q = (\n",
    "    pl.scan_csv(\"https://j.mp/iriscsv\")\n",
    "    .filter(pl.col(\"sepal_length\") > 5)\n",
    "    .groupby(\"species\")\n",
    "    .agg(pl.col(\"*\").sum())\n",
    ")\n",
    "q.collect()"
   ]
  }
 ],
 "metadata": {
  "interpreter": {
   "hash": "8db839a168c44fffd8304e1203dd35938a07106ce3469c652a615e3d83d5bb2a"
  },
  "kernelspec": {
   "display_name": "Python 3.9.1 64-bit ('venv': venv)",
   "language": "python",
   "name": "python3"
  },
  "language_info": {
   "codemirror_mode": {
    "name": "ipython",
    "version": 3
   },
   "file_extension": ".py",
   "mimetype": "text/x-python",
   "name": "python",
   "nbconvert_exporter": "python",
   "pygments_lexer": "ipython3",
   "version": "3.9.1"
  },
  "orig_nbformat": 4
 },
 "nbformat": 4,
 "nbformat_minor": 2
}
