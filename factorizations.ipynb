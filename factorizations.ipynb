{
 "cells": [
  {
   "cell_type": "markdown",
   "metadata": {},
   "source": [
    "# The different algos for QR factorization"
   ]
  },
  {
   "cell_type": "code",
   "execution_count": 27,
   "metadata": {},
   "outputs": [],
   "source": [
    "import numpy as np\n",
    "import random\n",
    "import itertools\n",
    "import copy\n",
    "import operator\n",
    "import time\n",
    "from math import copysign\n",
    "import pandas as pd\n",
    "import matplotlib.pyplot as plt\n",
    "import seaborn as sns\n",
    "import pyarrow as pa\n",
    "import pyarrow.feather as feather"
   ]
  },
  {
   "cell_type": "markdown",
   "metadata": {},
   "source": [
    "Create Test Matrix"
   ]
  },
  {
   "cell_type": "code",
   "execution_count": 28,
   "metadata": {},
   "outputs": [],
   "source": [
    "mat = np.array([[3, 4, 2, 1],\n",
    "                [5, 6, 7, 8],\n",
    "                [3, 4, 5, 1],\n",
    "                [1, 2, 3, 4]], dtype=float)\n",
    "\n",
    "arrow_mat = pd.DataFrame(mat, columns = list(range(4)))\n",
    "feather.write_feather(arrow_mat, 'feathers/starting_mat')"
   ]
  },
  {
   "cell_type": "markdown",
   "metadata": {},
   "source": [
    "## Gram Schmidt"
   ]
  },
  {
   "cell_type": "code",
   "execution_count": 29,
   "metadata": {},
   "outputs": [],
   "source": [
    "def gram_schmidt_process(A):\n",
    "    \"\"\"Perform QR decomposition of matrix A using Gram-Schmidt process.\"\"\"\n",
    "    (num_rows, num_cols) = np.shape(A)\n",
    "\n",
    "    # Initialize empty orthogonal matrix Q.\n",
    "    Q = np.empty([num_rows, num_rows])\n",
    "    cnt = 0\n",
    "\n",
    "    # Compute orthogonal matrix Q.\n",
    "    for a in A.T:\n",
    "        u = np.copy(a)\n",
    "        for i in range(0, cnt):\n",
    "            proj = np.dot(np.dot(Q[:, i].T, a), Q[:, i])\n",
    "            u -= proj\n",
    "\n",
    "        e = u / np.linalg.norm(u)\n",
    "        Q[:, cnt] = e\n",
    "\n",
    "        cnt += 1  # Increase columns counter.\n",
    "\n",
    "    # Compute upper triangular matrix R.\n",
    "    R = np.dot(Q.T, A)\n",
    "\n",
    "    return (Q, R)\n"
   ]
  },
  {
   "cell_type": "code",
   "execution_count": 30,
   "metadata": {},
   "outputs": [
    {
     "name": "stdout",
     "output_type": "stream",
     "text": [
      "Q [[ 4.52267017e-01  2.13200716e-01 -8.66025404e-01 -1.08779196e-16]\n",
      " [ 7.53778361e-01 -4.26401433e-01  2.88675135e-01  4.08248290e-01]\n",
      " [ 4.52267017e-01  2.13200716e-01  2.88675135e-01 -8.16496581e-01]\n",
      " [ 1.50755672e-01  8.52802865e-01  2.88675135e-01  4.08248290e-01]]\n",
      "R [[ 4.52267017e-01  2.13200716e-01 -8.66025404e-01 -1.08779196e-16]\n",
      " [ 7.53778361e-01 -4.26401433e-01  2.88675135e-01  4.08248290e-01]\n",
      " [ 4.52267017e-01  2.13200716e-01  2.88675135e-01 -8.16496581e-01]\n",
      " [ 1.50755672e-01  8.52802865e-01  2.88675135e-01  4.08248290e-01]]\n"
     ]
    }
   ],
   "source": [
    "q = gram_schmidt_process(mat)[0]\n",
    "r = gram_schmidt_process(mat)[0]\n",
    "\n",
    "arrow_gs_q = pd.DataFrame(q, columns = list(range(4)))\n",
    "feather.write_feather(arrow_gs_q, 'feathers/gs_q')\n",
    "\n",
    "arrow_gs_r = pd.DataFrame(r, columns = list(range(4)))\n",
    "feather.write_feather(arrow_gs_r, 'feathers/gs_r')\n",
    "\n",
    "print(\"Q\", q)\n",
    "print(\"R\", r)"
   ]
  },
  {
   "cell_type": "markdown",
   "metadata": {},
   "source": [
    "## Householder"
   ]
  },
  {
   "cell_type": "code",
   "execution_count": 31,
   "metadata": {},
   "outputs": [],
   "source": [
    "def householder_reflection(A):\n",
    "    \"\"\"Perform QR decomposition of matrix A using Householder reflection.\"\"\"\n",
    "    (num_rows, num_cols) = np.shape(A)\n",
    "\n",
    "    # Initialize orthogonal matrix Q and upper triangular matrix R.\n",
    "    Q = np.identity(num_rows)\n",
    "    R = np.copy(A)\n",
    "\n",
    "    # Iterative over column sub-vector and\n",
    "    # compute Householder matrix to zero-out lower triangular matrix entries.\n",
    "    for cnt in range(num_rows - 1):\n",
    "        x = R[cnt:, cnt]\n",
    "\n",
    "        e = np.zeros_like(x)\n",
    "        e[0] = copysign(np.linalg.norm(x), -A[cnt, cnt])\n",
    "        u = x + e\n",
    "        v = u / np.linalg.norm(u)\n",
    "\n",
    "        Q_cnt = np.identity(num_rows)\n",
    "        Q_cnt[cnt:, cnt:] -= 2.0 * np.outer(v, v)\n",
    "\n",
    "        R = np.dot(Q_cnt, R)\n",
    "        Q = np.dot(Q, Q_cnt.T)\n",
    "\n",
    "    return (Q, R)\n"
   ]
  },
  {
   "cell_type": "code",
   "execution_count": 32,
   "metadata": {},
   "outputs": [
    {
     "name": "stdout",
     "output_type": "stream",
     "text": [
      "Q [[ 4.52267017e-01  2.13200716e-01 -8.66025404e-01 -1.19899678e-16]\n",
      " [ 7.53778361e-01 -4.26401433e-01  2.88675135e-01  4.08248290e-01]\n",
      " [ 4.52267017e-01  2.13200716e-01  2.88675135e-01 -8.16496581e-01]\n",
      " [ 1.50755672e-01  8.52802865e-01  2.88675135e-01  4.08248290e-01]]\n",
      "R [[ 6.63324958e+00  8.44231765e+00  8.89458467e+00  7.53778361e+00]\n",
      " [ 4.95342708e-16  8.52802865e-01  1.06600358e+00  4.26401433e-01]\n",
      " [-1.06663494e-15  4.85153042e-17  2.59807621e+00  2.88675135e+00]\n",
      " [-4.30584319e-16 -5.23972308e-17  6.19851865e-16  4.08248290e+00]]\n"
     ]
    }
   ],
   "source": [
    "q = householder_reflection(mat)[0]\n",
    "r = householder_reflection(mat)[1]\n",
    "\n",
    "arrow_house_q = pd.DataFrame(q, columns = list(range(4)))\n",
    "feather.write_feather(arrow_house_q, 'feathers/house_q')\n",
    "\n",
    "arrow_house_r = pd.DataFrame(r, columns = list(range(4)))\n",
    "feather.write_feather(arrow_house_r, 'feathers/house_r')\n",
    "\n",
    "print(\"Q\", q)\n",
    "print(\"R\", r)"
   ]
  },
  {
   "cell_type": "markdown",
   "metadata": {},
   "source": [
    "## Givens"
   ]
  },
  {
   "cell_type": "code",
   "execution_count": 33,
   "metadata": {},
   "outputs": [],
   "source": [
    "\n",
    "def givens_rotation(A):\n",
    "    \"\"\"Perform QR decomposition of matrix A using Givens rotation.\"\"\"\n",
    "    (num_rows, num_cols) = np.shape(A)\n",
    "\n",
    "    # Initialize orthogonal matrix Q and upper triangular matrix R.\n",
    "    Q = np.identity(num_rows)\n",
    "    R = np.copy(A)\n",
    "\n",
    "    # Iterate over lower triangular matrix.\n",
    "    (rows, cols) = np.tril_indices(num_rows, -1, num_cols)\n",
    "    for (row, col) in zip(rows, cols):\n",
    "\n",
    "        # Compute Givens rotation matrix and\n",
    "        # zero-out lower triangular matrix entries.\n",
    "        if R[row, col] != 0:\n",
    "            (c, s) = _givens_rotation_matrix_entries(R[col, col], R[row, col])\n",
    "\n",
    "            G = np.identity(num_rows)\n",
    "            G[[col, row], [col, row]] = c\n",
    "            G[row, col] = s\n",
    "            G[col, row] = -s\n",
    "\n",
    "            R = np.dot(G, R)\n",
    "            Q = np.dot(Q, G.T)\n",
    "\n",
    "    return (Q, R)\n",
    "\n",
    "\n",
    "def _givens_rotation_matrix_entries(a, b):\n",
    "    \"\"\"Compute matrix entries for Givens rotation.\"\"\"\n",
    "    r = np.linalg.norm([a, b])\n",
    "    c = a/r\n",
    "    s = -b/r\n",
    "\n",
    "    return (c, s)\n"
   ]
  },
  {
   "cell_type": "code",
   "execution_count": 35,
   "metadata": {},
   "outputs": [
    {
     "name": "stdout",
     "output_type": "stream",
     "text": [
      "Q [[ 4.52267017e-01  2.13200716e-01 -8.66025404e-01 -2.00642589e-16]\n",
      " [ 7.53778361e-01 -4.26401433e-01  2.88675135e-01 -4.08248290e-01]\n",
      " [ 4.52267017e-01  2.13200716e-01  2.88675135e-01  8.16496581e-01]\n",
      " [ 1.50755672e-01  8.52802865e-01  2.88675135e-01 -4.08248290e-01]]\n",
      "R [[ 6.63324958e+00  8.44231765e+00  8.89458467e+00  7.53778361e+00]\n",
      " [ 3.40477089e-17  8.52802865e-01  1.06600358e+00  4.26401433e-01]\n",
      " [ 3.85570459e-17 -1.57042915e-17  2.59807621e+00  2.88675135e+00]\n",
      " [ 9.83872928e-17 -8.89788665e-18  6.26105051e-17 -4.08248290e+00]]\n"
     ]
    }
   ],
   "source": [
    "q = givens_rotation(mat)[0]\n",
    "r = givens_rotation(mat)[1]\n",
    "\n",
    "arrow_givens_q = pd.DataFrame(q, columns = list(range(4)))\n",
    "feather.write_feather(arrow_givens_q, 'feathers/givens_q')\n",
    "\n",
    "arrow_givens_r = pd.DataFrame(r, columns = list(range(4)))\n",
    "feather.write_feather(arrow_givens_r, 'feathers/givens_r')\n",
    "\n",
    "print(\"Q\", q)\n",
    "print(\"R\", r)"
   ]
  },
  {
   "cell_type": "code",
   "execution_count": null,
   "metadata": {},
   "outputs": [],
   "source": []
  },
  {
   "cell_type": "markdown",
   "metadata": {},
   "source": [
    "## Test Efficiencies"
   ]
  },
  {
   "cell_type": "code",
   "execution_count": 36,
   "metadata": {},
   "outputs": [
    {
     "name": "stderr",
     "output_type": "stream",
     "text": [
      "/tmp/ipykernel_14758/2410068899.py:17: RuntimeWarning: invalid value encountered in true_divide\n",
      "  v = u / np.linalg.norm(u)\n",
      "/tmp/ipykernel_14758/464808251.py:16: RuntimeWarning: invalid value encountered in true_divide\n",
      "  e = u / np.linalg.norm(u)\n"
     ]
    },
    {
     "name": "stdout",
     "output_type": "stream",
     "text": [
      "finished 2\n",
      "finished 7\n",
      "finished 12\n",
      "finished 17\n",
      "finished 22\n",
      "finished 27\n",
      "finished 32\n"
     ]
    },
    {
     "ename": "KeyboardInterrupt",
     "evalue": "",
     "output_type": "error",
     "traceback": [
      "\u001b[0;31m---------------------------------------------------------------------------\u001b[0m",
      "\u001b[0;31mKeyboardInterrupt\u001b[0m                         Traceback (most recent call last)",
      "\u001b[0;32m/tmp/ipykernel_14758/2221667937.py\u001b[0m in \u001b[0;36m<module>\u001b[0;34m\u001b[0m\n\u001b[1;32m     48\u001b[0m     \u001b[0mplt\u001b[0m\u001b[0;34m.\u001b[0m\u001b[0msavefig\u001b[0m\u001b[0;34m(\u001b[0m\u001b[0;34m'graphs/times.png'\u001b[0m\u001b[0;34m)\u001b[0m\u001b[0;34m\u001b[0m\u001b[0;34m\u001b[0m\u001b[0m\n\u001b[1;32m     49\u001b[0m \u001b[0;34m\u001b[0m\u001b[0m\n\u001b[0;32m---> 50\u001b[0;31m \u001b[0mcompare\u001b[0m\u001b[0;34m(\u001b[0m\u001b[0;36m100\u001b[0m\u001b[0;34m,\u001b[0m \u001b[0;36m5\u001b[0m\u001b[0;34m,\u001b[0m \u001b[0;36m30\u001b[0m\u001b[0;34m)\u001b[0m\u001b[0;34m\u001b[0m\u001b[0;34m\u001b[0m\u001b[0m\n\u001b[0m",
      "\u001b[0;32m/tmp/ipykernel_14758/2221667937.py\u001b[0m in \u001b[0;36mcompare\u001b[0;34m(V, step, reps)\u001b[0m\n\u001b[1;32m     13\u001b[0m \u001b[0;34m\u001b[0m\u001b[0m\n\u001b[1;32m     14\u001b[0m             \u001b[0mstart_givens\u001b[0m \u001b[0;34m=\u001b[0m \u001b[0mtime\u001b[0m\u001b[0;34m.\u001b[0m\u001b[0mtime\u001b[0m\u001b[0;34m(\u001b[0m\u001b[0;34m)\u001b[0m\u001b[0;34m\u001b[0m\u001b[0;34m\u001b[0m\u001b[0m\n\u001b[0;32m---> 15\u001b[0;31m             \u001b[0mgivens_rotation\u001b[0m\u001b[0;34m(\u001b[0m\u001b[0mmat\u001b[0m\u001b[0;34m)\u001b[0m\u001b[0;34m\u001b[0m\u001b[0;34m\u001b[0m\u001b[0m\n\u001b[0m\u001b[1;32m     16\u001b[0m             \u001b[0mend_givens\u001b[0m \u001b[0;34m=\u001b[0m \u001b[0mtime\u001b[0m\u001b[0;34m.\u001b[0m\u001b[0mtime\u001b[0m\u001b[0;34m(\u001b[0m\u001b[0;34m)\u001b[0m\u001b[0;34m\u001b[0m\u001b[0;34m\u001b[0m\u001b[0m\n\u001b[1;32m     17\u001b[0m             \u001b[0msum_givens\u001b[0m \u001b[0;34m+=\u001b[0m \u001b[0mend_givens\u001b[0m \u001b[0;34m-\u001b[0m \u001b[0mstart_givens\u001b[0m\u001b[0;34m\u001b[0m\u001b[0;34m\u001b[0m\u001b[0m\n",
      "\u001b[0;32m/tmp/ipykernel_14758/4153697688.py\u001b[0m in \u001b[0;36mgivens_rotation\u001b[0;34m(A)\u001b[0m\n\u001b[1;32m     21\u001b[0m             \u001b[0mG\u001b[0m\u001b[0;34m[\u001b[0m\u001b[0mcol\u001b[0m\u001b[0;34m,\u001b[0m \u001b[0mrow\u001b[0m\u001b[0;34m]\u001b[0m \u001b[0;34m=\u001b[0m \u001b[0;34m-\u001b[0m\u001b[0ms\u001b[0m\u001b[0;34m\u001b[0m\u001b[0;34m\u001b[0m\u001b[0m\n\u001b[1;32m     22\u001b[0m \u001b[0;34m\u001b[0m\u001b[0m\n\u001b[0;32m---> 23\u001b[0;31m             \u001b[0mR\u001b[0m \u001b[0;34m=\u001b[0m \u001b[0mnp\u001b[0m\u001b[0;34m.\u001b[0m\u001b[0mdot\u001b[0m\u001b[0;34m(\u001b[0m\u001b[0mG\u001b[0m\u001b[0;34m,\u001b[0m \u001b[0mR\u001b[0m\u001b[0;34m)\u001b[0m\u001b[0;34m\u001b[0m\u001b[0;34m\u001b[0m\u001b[0m\n\u001b[0m\u001b[1;32m     24\u001b[0m             \u001b[0mQ\u001b[0m \u001b[0;34m=\u001b[0m \u001b[0mnp\u001b[0m\u001b[0;34m.\u001b[0m\u001b[0mdot\u001b[0m\u001b[0;34m(\u001b[0m\u001b[0mQ\u001b[0m\u001b[0;34m,\u001b[0m \u001b[0mG\u001b[0m\u001b[0;34m.\u001b[0m\u001b[0mT\u001b[0m\u001b[0;34m)\u001b[0m\u001b[0;34m\u001b[0m\u001b[0;34m\u001b[0m\u001b[0m\n\u001b[1;32m     25\u001b[0m \u001b[0;34m\u001b[0m\u001b[0m\n",
      "\u001b[0;32m<__array_function__ internals>\u001b[0m in \u001b[0;36mdot\u001b[0;34m(*args, **kwargs)\u001b[0m\n",
      "\u001b[0;31mKeyboardInterrupt\u001b[0m: "
     ]
    }
   ],
   "source": [
    "def compare(V, step, reps):\n",
    "    df = pd.DataFrame(columns=['i', 'time', 'algorithm'])\n",
    "\n",
    "    for i in range(2, V, step):\n",
    "            \n",
    "        sum_givens = 0\n",
    "        sum_gs = 0\n",
    "        sum_house = 0\n",
    "\n",
    "        for rep in range(reps):\n",
    "\n",
    "            mat = np.random.randint(10, size=(i, i)).astype(float)\n",
    "            \n",
    "            start_givens = time.time()\n",
    "            givens_rotation(mat)\n",
    "            end_givens = time.time()\n",
    "            sum_givens += end_givens - start_givens\n",
    "\n",
    "\n",
    "            start_gs = time.time()\n",
    "            gram_schmidt_process(mat)\n",
    "            end_gs = time.time()\n",
    "            sum_gs += end_gs - start_gs\n",
    "\n",
    "            \n",
    "            start_house = time.time()\n",
    "            householder_reflection(mat)\n",
    "            end_house = time.time()\n",
    "            sum_house += end_house - start_house\n",
    "\n",
    "\n",
    "        avg_givens = sum_givens / reps\n",
    "        avg_gs = sum_gs / reps\n",
    "        avg_house = sum_house / reps\n",
    "\n",
    "        df = df.append({'i': i, 'time': avg_givens, 'algorithm': \"Givens\"}, ignore_index=True)\n",
    "        df = df.append({'i': i, 'time': avg_gs, 'algorithm': \"Gram-Schmidt\"}, ignore_index=True)\n",
    "        df = df.append({'i': i, 'time': avg_house, 'algorithm': \"Householder\"}, ignore_index=True)\n",
    "\n",
    "        print(\"finished\", i)\n",
    "        \n",
    "\n",
    "\n",
    "    sns.lineplot(x=df.i, y=df.time, hue=df.algorithm)\n",
    "    plt.xlabel(\"Size of matrix\")\n",
    "    plt.ylabel(\"Avg Time of Trial (sec)\")\n",
    "    plt.legend()\n",
    "    plt.savefig('graphs/times.png')\n",
    "\n",
    "compare(100, 5, 30)"
   ]
  },
  {
   "cell_type": "code",
   "execution_count": null,
   "metadata": {},
   "outputs": [],
   "source": []
  }
 ],
 "metadata": {
  "interpreter": {
   "hash": "8db839a168c44fffd8304e1203dd35938a07106ce3469c652a615e3d83d5bb2a"
  },
  "kernelspec": {
   "display_name": "Python 3.9.1 64-bit ('venv': venv)",
   "name": "python3"
  },
  "language_info": {
   "codemirror_mode": {
    "name": "ipython",
    "version": 3
   },
   "file_extension": ".py",
   "mimetype": "text/x-python",
   "name": "python",
   "nbconvert_exporter": "python",
   "pygments_lexer": "ipython3",
   "version": "3.9.1"
  },
  "orig_nbformat": 4
 },
 "nbformat": 4,
 "nbformat_minor": 2
}
